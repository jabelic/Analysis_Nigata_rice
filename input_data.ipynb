{
 "cells": [
  {
   "cell_type": "code",
   "execution_count": null,
   "metadata": {},
   "outputs": [],
   "source": [
    "\n"
   ]
  },
  {
   "cell_type": "code",
   "execution_count": 276,
   "metadata": {},
   "outputs": [
    {
     "name": "stdout",
     "output_type": "stream",
     "text": [
      "[]\n",
      "主成分の分散説明率\n",
      "[0.53459577]\n",
      "55 55\n",
      "Train score: 0.237\n",
      "Test score: 0.059\n",
      "トレーニングデータに対する正解率： 0.24\n",
      "(38, 1)\n"
     ]
    },
    {
     "data": {
      "text/plain": [
       "<matplotlib.collections.PathCollection at 0x11939f630>"
      ]
     },
     "execution_count": 276,
     "metadata": {},
     "output_type": "execute_result"
    },
    {
     "data": {
      "text/plain": [
       "<Figure size 1440x720 with 0 Axes>"
      ]
     },
     "metadata": {},
     "output_type": "display_data"
    },
    {
     "data": {
      "image/png": "[encoded data removed]",
      "text/plain": [
       "<Figure size 720x720 with 1 Axes>"
      ]
     },
     "metadata": {},
     "output_type": "display_data"
    }
   ],
   "source": [
    "import numpy as np\n",
    "import pandas as pd\n",
    "#from sklearn.decomposition import PCA\n",
    "from pandas import plotting\n",
    "from sklearn import preprocessing, decomposition\n",
    "from sklearn.svm import LinearSVC, SVC\n",
    "#from sklearn.cross_validation import train_test_split\n",
    "from sklearn.model_selection import cross_val_score\n",
    "from sklearn.preprocessing import StandardScaler \n",
    "from sklearn.model_selection import train_test_split\n",
    "import scipy.stats\n",
    "import mglearn\n",
    "\n",
    "\n",
    "df_sunlight = pd.read_csv('sunlight_hours.csv', index_col=0)\n",
    "df_temp = pd.read_csv('NiigataKishou_temp.csv', index_col = 0)\n",
    "df_humidity = pd.read_csv('arrange_humidity.csv', index_col = 0)\n",
    "df_yield = pd.read_csv('niigata_rice_10a.csv', index_col = 0)\n",
    "#print(df_sunlight['1'])\n",
    "#df_sunlight.plot()\n",
    "#df_temp.plot()\n",
    "#df_humidity.plot()\n",
    "#df_yield.plot()\n",
    "\n",
    "#plotting.scatter_matrix(df_sunlight)\n",
    "\n",
    "sunlight = df_sunlight['6'].values\n",
    "#print(sunlight)\n",
    "temp = df_temp['6'].values\n",
    "humidity = df_humidity['6'].values\n",
    "\n",
    "\n",
    "#data = np.empty((55,3), float)\n",
    "data = np.empty([0, 3])\n",
    "print(data)\n",
    "for i in range(len(sunlight)):\n",
    "    temp_array = np.array([sunlight[i], temp[i], humidity[i]])\n",
    "    #print(temp_array, type(temp_array))\n",
    "    #data = np.concatenate([data, temp_array], axis = 0)\n",
    "    data = np.append(data, np.array([temp_array]), axis = 0)\n",
    "    #print(np.array([sunlight[i], temp[i], humidity[i]]))\n",
    "\n",
    "\n",
    "#data = [sunlight, temp, humidity]\n",
    "#data = np.array(data)\n",
    "#print(data)\n",
    "\n",
    "\n",
    "rice_yield = np.array(df_yield['Yield/10a(t)'].values)\n",
    "#print(rice_yield)\n",
    "\n",
    "#pca = PCA()\n",
    "\n",
    "pca = decomposition.PCA(n_components=1)\n",
    "#pca.fit(data)\n",
    "sc=StandardScaler()\n",
    "#sc.fit(data)\n",
    "X=sc.fit_transform(data)\n",
    "#X = pca.fit_transform(data)\n",
    "\n",
    "\n",
    "#pca.fit(rice_yield)\n",
    "#sc.fit(rice_yield)\n",
    "#R = sc.transform(rice_yield)\n",
    "\n",
    "\n",
    "#pca = decomposition.PCA(n_components=1)\n",
    "X_transformed = pca.fit_transform(X)\n",
    "#R_transformed = pca.fit_transform(R)\n",
    "print(\"主成分の分散説明率\")\n",
    "print(pca.explained_variance_ratio_)\n",
    "#print(\"固有ベクトル\")\n",
    "#print(pca.components_)\n",
    "#print(pca.singular_values_)\n",
    "\n",
    "\n",
    "\n",
    "#print(X_transformed)\n",
    "#rice_yield = scipy.stats.zscore(rice_yield)\n",
    "print(rice_yield.size, X_transformed.size)\n",
    "X_train, X_test, y_train, y_test = train_test_split(X_transformed, rice_yield.T, test_size=0.3, random_state=None )\n",
    "\n",
    "\n",
    "#print(y_train)\n",
    "\n",
    "\n",
    "sc = StandardScaler() \n",
    "sc.fit(X_train)\n",
    "#print(X_train)\n",
    "X_train_std = sc.fit_transform(X_train)\n",
    "X_test_std = sc.transform(X_test)\n",
    "\n",
    "#y_train_std = sc.transform(y_train)\n",
    "\n",
    "\n",
    "\n",
    "''' SVM '''\n",
    "\n",
    "model = SVC(kernel='linear', random_state=None)\n",
    "model.fit(X_train_std, y_train)\n",
    "#model.fit(y_train, X_train_std) 本当はこっちが良いのでは?\n",
    "predict = model.predict(X_test_std)\n",
    "\n",
    "\n",
    "#print(X_train_std)\n",
    "#print(y_train)\n",
    "#print(X_train.size == y_train.size)\n",
    "#mglearn.plots.plot_2d_separator(X_train_std, y_train)\n",
    "\n",
    "print('Train score: {:.3f}'.format(model.score(X_train, y_train)))\n",
    "print('Test score: {:.3f}'.format(model.score(X_test, y_test)))\n",
    "\n",
    "\n",
    "\n",
    "from sklearn.metrics import accuracy_score\n",
    "\n",
    "# トレーニングデータに対する精度\n",
    "\n",
    "pred_train = model.predict(X_train_std)\n",
    "accuracy_train = accuracy_score(y_train, pred_train)\n",
    "print('トレーニングデータに対する正解率： %.2f' % accuracy_train)\n",
    "\n",
    "\n",
    "import matplotlib.pyplot as plt\n",
    "from mlxtend.plotting import plot_decision_regions\n",
    "plt.style.use('ggplot') \n",
    "\n",
    "X_combined_std = np.vstack((X_train_std, X_test_std))\n",
    "y_combined = np.hstack((y_train, y_test))\n",
    "\n",
    "fig = plt.figure(figsize=(20,10))\n",
    "#plot_decision_regions(X_combined_std, y_combined, clf=model,  res=0.02)\n",
    "#plt.show()\n",
    "\n",
    "\n",
    "\n",
    "\n",
    "import matplotlib.pyplot as plt\n",
    "\n",
    "print(X_train.shape)\n",
    "plt.figure(figsize=(10, 10))\n",
    "plt.subplot(2,1,1)\n",
    "plt.scatter(X_train_std, y_train, c='red', marker='x', s=30, label='origin')\n",
    "#plt.scatter(X, c='blue', marker='x', s=30, label='standard ')\n",
    "\n"
   ]
  },
  {
   "cell_type": "code",
   "execution_count": 170,
   "metadata": {},
   "outputs": [
    {
     "data": {
      "text/plain": [
       "<matplotlib.collections.LineCollection at 0x11b877cf8>"
      ]
     },
     "execution_count": 170,
     "metadata": {},
     "output_type": "execute_result"
    },
    {
     "data": {
      "image/png": "[encoded data removed]",
      "text/plain": [
       "<Figure size 720x864 with 1 Axes>"
      ]
     },
     "metadata": {},
     "output_type": "display_data"
    }
   ],
   "source": [
    "\n",
    "import matplotlib.pyplot as plt\n",
    "\n",
    "\n",
    "plt.figure(figsize=(10, 12))\n",
    "plt.subplot(2,1,1)\n",
    "plt.title('StandardScaler')\n",
    "plt.xlim([-4, 10])\n",
    "plt.ylim([-4, 10])\n",
    "plt.scatter(data, data, c='red', marker='x', s=30, label='origin')\n",
    "plt.scatter(X, X, c='blue', marker='x', s=30, label='standard ')\n",
    "plt.legend(loc='upper left')\n",
    "plt.hlines(0,xmin=-4, xmax=10, colors='#888888', linestyles='dotted')\n",
    "plt.vlines(0,ymin=-4, ymax=10, colors='#888888', linestyles='dotted')"
   ]
  },
  {
   "cell_type": "code",
   "execution_count": null,
   "metadata": {},
   "outputs": [],
   "source": [
    "\n"
   ]
  },
  {
   "cell_type": "code",
   "execution_count": null,
   "metadata": {},
   "outputs": [],
   "source": []
  }
 ],
 "metadata": {
  "kernelspec": {
   "display_name": "Python 3",
   "language": "python",
   "name": "python3"
  },
  "language_info": {
   "codemirror_mode": {
    "name": "ipython",
    "version": 3
   },
   "file_extension": ".py",
   "mimetype": "text/x-python",
   "name": "python",
   "nbconvert_exporter": "python",
   "pygments_lexer": "ipython3",
   "version": "3.7.0b3"
  }
 },
 "nbformat": 4,
 "nbformat_minor": 2
}
