{
 "cells": [
  {
   "cell_type": "code",
   "execution_count": 1,
   "metadata": {},
   "outputs": [
    {
     "name": "stderr",
     "output_type": "stream",
     "text": [
      "/Library/Frameworks/Python.framework/Versions/3.7/lib/python3.7/site-packages/sklearn/externals/six.py:31: DeprecationWarning: The module is deprecated in version 0.21 and will be removed in version 0.23 since we've dropped support for Python 2.7. Please rely on the official version of six (https://pypi.org/project/six/).\n",
      "  \"(https://pypi.org/project/six/).\", DeprecationWarning)\n",
      "/Library/Frameworks/Python.framework/Versions/3.7/lib/python3.7/site-packages/sklearn/externals/joblib/__init__.py:15: DeprecationWarning: sklearn.externals.joblib is deprecated in 0.21 and will be removed in 0.23. Please import this functionality directly from joblib, which can be installed with: pip install joblib. If this warning is raised when loading pickled models, you may need to re-serialize those models with scikit-learn 0.21+.\n",
      "  warnings.warn(msg, category=DeprecationWarning)\n"
     ]
    }
   ],
   "source": [
    "import numpy as np\n",
    "import pandas as pd\n",
    "from sklearn.decomposition import PCA\n",
    "from pandas import plotting\n",
    "from sklearn import preprocessing, decomposition\n",
    "from sklearn.svm import LinearSVC, SVC\n",
    "#from sklearn.cross_validation import train_test_split\n",
    "from sklearn.model_selection import cross_val_score\n",
    "from sklearn.preprocessing import StandardScaler \n",
    "from sklearn.model_selection import train_test_split\n",
    "import scipy.stats\n",
    "import mglearn\n",
    "import matplotlib.pyplot as plt\n",
    "from sklearn import svm, metrics, preprocessing#機械学習用のライブラリを利用\n",
    "from mlxtend.plotting import plot_decision_regions #学習結果をプロットする外部ライブラリを利用"
   ]
  },
  {
   "cell_type": "code",
   "execution_count": 2,
   "metadata": {},
   "outputs": [
    {
     "name": "stdout",
     "output_type": "stream",
     "text": [
      "[0.99095959 0.00849709]\n"
     ]
    },
    {
     "data": {
      "image/png": "[encoded data removed]",
      "text/plain": [
       "<Figure size 432x288 with 1 Axes>"
      ]
     },
     "metadata": {},
     "output_type": "display_data"
    },
    {
     "name": "stdout",
     "output_type": "stream",
     "text": [
      "正答率 =  0.5294117647058824\n"
     ]
    }
   ],
   "source": [
    "# データの読み込み\n",
    "df_sunlight = pd.read_csv('sunlight_hours.csv', index_col=0)\n",
    "df_temp = pd.read_csv('NiigataKishou_temp.csv', index_col = 0)\n",
    "df_humidity = pd.read_csv('arrange_humidity.csv', index_col = 0)\n",
    "df_yield = pd.read_csv('niigata_rice_10a.csv', index_col = 0)\n",
    "\n",
    "# dataframeから配列に変換\n",
    "sunlight = df_sunlight['6'].values\n",
    "temp = df_temp['6'].values\n",
    "humidity = df_humidity['6'].values\n",
    "rice_yield = np.array(df_yield['Yield/10a(t)'].values)\n",
    "\n",
    "# 3つのデータの配列を55x3のnumpy2次元配列に変換\n",
    "data = np.empty([0, 3])\n",
    "for i in range(len(sunlight)):\n",
    "    temp_array = np.array([sunlight[i], temp[i], humidity[i]])\n",
    "    data = np.append(data, np.array([temp_array]), axis = 0)\n",
    "\n",
    "\n",
    "# クラスラベルを生成. 1を豊作に.\n",
    "y_judge = np.empty([0,1])\n",
    "for j in rice_yield:\n",
    "    if j >= 480:\n",
    "        y_judge = np.append(y_judge, 1)\n",
    "    else:\n",
    "        y_judge = np.append(y_judge, 0)\n",
    "\n",
    "y_judge = np.array(y_judge, dtype=int)\n",
    "\n",
    "\n",
    "# PCA 55x3の気候データを55x2の気候データに圧縮\n",
    "pca = PCA(n_components=2)\n",
    "pca.fit(data)\n",
    "# 各主成分によってどの程度カバー出来ているかの割合(第一主成分，第二主成分)\n",
    "print(pca.explained_variance_ratio_)\n",
    "\n",
    "# 次元削減をdataに適用し, pca_pointに渡す.\n",
    "pca_point = pca.transform(data) # pca_pointは55x1\n",
    "\n",
    "\n",
    "# 気候データの２次元のプロット\n",
    "plt.scatter(pca_point[:, 0], pca_point[:, 1] )\n",
    "plt.show()\n",
    "\n",
    "\n",
    "# SVM\n",
    "# pca_pointを標準化\n",
    "sc=preprocessing.StandardScaler()\n",
    "sc.fit(pca_point)\n",
    "# 標準化をpca_pointに適用する．\n",
    "pca_point=sc.transform(pca_point)\n",
    "\n",
    "\n",
    "\n",
    "# ここで, pca_pointとrice_yieldで55行2列のデータを作らないといけない\n",
    "X_data = np.empty([0, 2])\n",
    "for i in range(len(pca_point)):\n",
    "    temp_array = np.array([pca_point[i][0], pca_point[i][1]])\n",
    "    X_data = np.append(X_data, np.array([temp_array]), axis = 0)\n",
    "\n",
    "\n",
    "# trainデータとtestデータに分割\n",
    "X_train, X_test, y_train, y_test = train_test_split(X_data, y_judge, test_size=0.3, random_state=None )\n",
    "\n",
    "# SVM LinearSVC trainデータで訓練\n",
    "clf_result=LinearSVC(loss='hinge', C=1.0,class_weight='balanced', random_state=0)#loss='squared_hinge' #loss=\"hinge\", loss=\"log\"\n",
    "clf_result.fit(X_train, y_train)\n",
    "\n",
    "#正答率を求める\n",
    "pre=clf_result.predict(X_test)\n",
    "ac_score=metrics.accuracy_score(y_test,pre)\n",
    "print(\"正答率 = \",ac_score)\n",
    "\n",
    "\n"
   ]
  },
  {
   "cell_type": "code",
   "execution_count": 6,
   "metadata": {},
   "outputs": [
    {
     "name": "stdout",
     "output_type": "stream",
     "text": [
      "[ 2.27096720e+00  1.21437691e+00  1.54407251e-01 -2.85893397e-01\n",
      " -2.91899865e-01 -1.18140028e+00  4.29412636e-01  1.46079879e+00\n",
      "  2.12505427e-04  1.56927834e+00  2.15820691e+00 -3.17945497e-02\n",
      " -1.66761400e-01  1.89431345e-01  1.30147977e+00 -6.77536214e-01\n",
      "  1.34975739e-02  1.94998170e-01 -1.21389406e+00  5.11009407e-01\n",
      " -3.29363304e-01 -9.71191799e-01  5.23478554e-01 -1.26431889e+00\n",
      "  1.30446367e+00  9.54683907e-01  7.65638874e-01  8.18475434e-01\n",
      " -4.31982576e-01  2.00577101e+00 -9.20921589e-01 -6.43800541e-01\n",
      " -2.82807193e-01 -8.56332407e-01  8.69279162e-01 -2.07657797e+00\n",
      " -3.90075349e-01 -1.50816599e+00 -1.44918229e+00 -2.66623948e-01\n",
      " -2.23710838e+00 -7.29136398e-01 -6.33040546e-01 -9.60165967e-01\n",
      "  5.01211531e-01 -1.10492779e+00  2.07002962e-01  3.51822909e-01\n",
      " -3.60593092e-01  3.93204763e-01  5.20826749e-01 -7.39791988e-03\n",
      "  1.01969057e-01 -6.00568860e-01  1.08755718e+00] [-1.55179306 -1.41615028 -0.60651062 -1.37488192 -1.39082316 -0.61108537\n",
      " -0.74818784 -1.20095409 -0.22917865 -0.27595266 -0.53982119  0.77177799\n",
      " -0.79475033 -1.59014862  0.14998113 -1.21313913  0.11962884 -0.93524075\n",
      " -1.2685535   0.20416697 -0.96999026  0.32691191 -0.39169955 -1.91401805\n",
      "  0.14486453  0.29480219 -0.49205098  0.69752264  0.28746872  1.81286056\n",
      "  0.86767868  2.00629652  0.95478493  0.58401747  0.6628893  -0.56103957\n",
      "  0.30557725  0.79080956 -0.17393396 -1.02509002  0.51410191  0.15551556\n",
      " -0.53126693 -0.70179503  1.51988527  1.3148727   1.35664106  1.64484314\n",
      "  0.94946595 -0.02164755  1.16714404  2.41544438 -0.19748677  0.11124437\n",
      "  0.59599227] [[1 1 1 1 1 1 1 1 1 1 1 1 1 1 1 1 1 1 1 1 1 1 1 1 1 1 1 1 1 1 1 1 1 1 1 1\n",
      "  1 1 0 0 0 0 0 0 0 0 0 0 0 0 0 0 0 0 0]]\n"
     ]
    },
    {
     "data": {
      "image/png": "[encoded data removed]",
      "text/plain": [
       "<Figure size 432x288 with 1 Axes>"
      ]
     },
     "metadata": {},
     "output_type": "display_data"
    },
    {
     "data": {
      "image/png": "[encoded data removed]",
      "text/plain": [
       "<Figure size 576x432 with 1 Axes>"
      ]
     },
     "metadata": {},
     "output_type": "display_data"
    },
    {
     "name": "stdout",
     "output_type": "stream",
     "text": [
      "(1, 55) (55, 2)\n"
     ]
    }
   ],
   "source": [
    "#plotする\n",
    "X_train_plot=np.vstack(X_train)\n",
    "y_train_plot=np.hstack(y_train)\n",
    "X_test_plot=np.vstack(X_test)\n",
    "y_test_plot=np.hstack(y_test)\n",
    "#plot_decision_regions(X_train_plot, y_train_plot, clf=clf_result, res=0.01) #学習データをプロット\n",
    "plot_decision_regions(X_test_plot, y_test_plot, clf=clf_result, res=0.01, legend=2) #テストデータをプロット\n",
    "\n",
    "#y_judge = y_judge.reshape(1, -1)\n",
    "#z = np.hstack([y_judge.T, y_judge.T])\n",
    "#z = np.hstack([y_judge])\n",
    "#x = X_data[:, 0].reshape(1, -1)\n",
    "#y = X_data[:, 1].reshape(1, -1)\n",
    "x = X_data[:, 0]\n",
    "y = X_data[:, 1]\n",
    "z = y_judge\n",
    "\n",
    "print(x,y,z)\n",
    "fig, ax = plt.subplots(figsize=(8, 6))\n",
    "#ax.scatter(X_data[:, 0], X_data[:,1], s=7, cmap='tab10')\n",
    "#ax.contourf(x, y, z.T,alpha=0.4, cmap='Paired')\n",
    "plt.show()\n",
    "print(z.shape, X_data.shape)"
   ]
  },
  {
   "cell_type": "code",
   "execution_count": null,
   "metadata": {},
   "outputs": [],
   "source": []
  }
 ],
 "metadata": {
  "kernelspec": {
   "display_name": "Python 3",
   "language": "python",
   "name": "python3"
  },
  "language_info": {
   "codemirror_mode": {
    "name": "ipython",
    "version": 3
   },
   "file_extension": ".py",
   "mimetype": "text/x-python",
   "name": "python",
   "nbconvert_exporter": "python",
   "pygments_lexer": "ipython3",
   "version": "3.7.0b3"
  }
 },
 "nbformat": 4,
 "nbformat_minor": 2
}
