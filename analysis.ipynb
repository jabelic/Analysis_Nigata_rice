{
 "cells": [
  {
   "cell_type": "code",
   "execution_count": 2,
   "metadata": {},
   "outputs": [
    {
     "name": "stderr",
     "output_type": "stream",
     "text": [
      "/Library/Frameworks/Python.framework/Versions/3.7/lib/python3.7/site-packages/sklearn/externals/six.py:31: DeprecationWarning: The module is deprecated in version 0.21 and will be removed in version 0.23 since we've dropped support for Python 2.7. Please rely on the official version of six (https://pypi.org/project/six/).\n",
      "  \"(https://pypi.org/project/six/).\", DeprecationWarning)\n",
      "/Library/Frameworks/Python.framework/Versions/3.7/lib/python3.7/site-packages/sklearn/externals/joblib/__init__.py:15: DeprecationWarning: sklearn.externals.joblib is deprecated in 0.21 and will be removed in 0.23. Please import this functionality directly from joblib, which can be installed with: pip install joblib. If this warning is raised when loading pickled models, you may need to re-serialize those models with scikit-learn 0.21+.\n",
      "  warnings.warn(msg, category=DeprecationWarning)\n"
     ]
    }
   ],
   "source": [
    "import numpy as np\n",
    "import pandas as pd\n",
    "from sklearn.decomposition import PCA\n",
    "from pandas import plotting\n",
    "from sklearn import preprocessing, decomposition\n",
    "from sklearn.svm import LinearSVC, SVC\n",
    "#from sklearn.cross_validation import train_test_split\n",
    "from sklearn.model_selection import cross_val_score\n",
    "from sklearn.preprocessing import StandardScaler \n",
    "from sklearn.model_selection import train_test_split\n",
    "import scipy.stats\n",
    "import mglearn\n",
    "import matplotlib.pyplot as plt\n",
    "from sklearn import svm, metrics, preprocessing#機械学習用のライブラリを利用\n",
    "from mlxtend.plotting import plot_decision_regions #学習結果をプロットする外部ライブラリを利用"
   ]
  },
  {
   "cell_type": "code",
   "execution_count": 3,
   "metadata": {},
   "outputs": [
    {
     "name": "stdout",
     "output_type": "stream",
     "text": [
      "[0.99095959]\n"
     ]
    },
    {
     "data": {
      "image/png": "[encoded data removed]",
      "text/plain": [
       "<Figure size 432x288 with 1 Axes>"
      ]
     },
     "metadata": {},
     "output_type": "display_data"
    },
    {
     "name": "stdout",
     "output_type": "stream",
     "text": [
      "正答率 =  0.6470588235294118\n"
     ]
    },
    {
     "name": "stderr",
     "output_type": "stream",
     "text": [
      "/Library/Frameworks/Python.framework/Versions/3.7/lib/python3.7/site-packages/sklearn/svm/base.py:929: ConvergenceWarning: Liblinear failed to converge, increase the number of iterations.\n",
      "  \"the number of iterations.\", ConvergenceWarning)\n"
     ]
    }
   ],
   "source": [
    "# データの読み込み\n",
    "df_sunlight = pd.read_csv('sunlight_hours.csv', index_col=0)\n",
    "df_temp = pd.read_csv('NiigataKishou_temp.csv', index_col = 0)\n",
    "df_humidity = pd.read_csv('arrange_humidity.csv', index_col = 0)\n",
    "df_yield = pd.read_csv('niigata_rice_10a.csv', index_col = 0)\n",
    "\n",
    "# dataframeから配列に変換\n",
    "sunlight = df_sunlight['6'].values\n",
    "temp = df_temp['6'].values\n",
    "humidity = df_humidity['6'].values\n",
    "rice_yield = np.array(df_yield['Yield/10a(t)'].values)\n",
    "\n",
    "# 3つのデータの配列を55x3のnumpy2次元配列に変換\n",
    "data = np.empty([0, 3])\n",
    "for i in range(len(sunlight)):\n",
    "    temp_array = np.array([sunlight[i], temp[i], humidity[i]])\n",
    "    data = np.append(data, np.array([temp_array]), axis = 0)\n",
    "\n",
    "\n",
    "# クラスラベルを生成. 1を豊作に.\n",
    "    y_judge = np.empty([0,1])\n",
    "for j in rice_yield:\n",
    "    if j >= 480:\n",
    "        y_judge = np.append(y_judge, 1)\n",
    "    else:\n",
    "        y_judge = np.append(y_judge, 0)\n",
    "\n",
    "y_judge = np.array(y_judge, dtype=int)\n",
    "\n",
    "\n",
    "# PCA 55x3の気候データを55x1の気候データに圧縮\n",
    "pca = PCA(n_components=1)\n",
    "pca.fit(data)\n",
    "# 各主成分によってどの程度カバー出来ているかの割合(第一主成分，第二主成分)\n",
    "print(pca.explained_variance_ratio_)\n",
    "\n",
    "# 次元削減をdataに適用し, pca_pointに渡す.\n",
    "pca_point = pca.transform(data) # pca_pointは55x1\n",
    "\n",
    "\n",
    "# 気候データと収穫量の２次元のプロット\n",
    "plt.scatter(pca_point, rice_yield)\n",
    "plt.show()\n",
    "\n",
    "\n",
    "# SVM\n",
    "# pca_pointを標準化\n",
    "sc=preprocessing.StandardScaler()\n",
    "sc.fit(pca_point)\n",
    "# 標準化をpca_pointに適用する．\n",
    "pca_point=sc.transform(pca_point)\n",
    "\n",
    "\n",
    "\n",
    "# ここで, pca_pointとrice_yieldで55行2列のデータを作らないといけない\n",
    "X_data = np.empty([0, 2])\n",
    "for i in range(len(pca_point)):\n",
    "    temp_array = np.array([pca_point[i][0], rice_yield[i]])\n",
    "    X_data = np.append(X_data, np.array([temp_array]), axis = 0)\n",
    "\n",
    "\n",
    "# trainデータとtestデータに分割\n",
    "X_train, X_test, y_train, y_test = train_test_split(X_data, y_judge, test_size=0.3, random_state=None )\n",
    "\n",
    "# SVM LinearSVC trainデータで訓練\n",
    "clf_result=LinearSVC(loss='hinge', C=1.3,class_weight='balanced', random_state=0)#loss='squared_hinge' #loss=\"hinge\", loss=\"log\"\n",
    "clf_result.fit(X_train, y_train)\n",
    "\n",
    "#正答率を求める\n",
    "pre=clf_result.predict(X_test)\n",
    "ac_score=metrics.accuracy_score(y_test,pre)\n",
    "print(\"正答率 = \",ac_score)\n",
    "\n"
   ]
  },
  {
   "cell_type": "code",
   "execution_count": null,
   "metadata": {},
   "outputs": [],
   "source": []
  },
  {
   "cell_type": "code",
   "execution_count": 9,
   "metadata": {},
   "outputs": [
    {
     "name": "stderr",
     "output_type": "stream",
     "text": [
      "/Library/Frameworks/Python.framework/Versions/3.7/lib/python3.7/site-packages/mlxtend/plotting/decision_regions.py:247: UserWarning: No contour levels were found within the data range.\n",
      "  antialiased=True)\n",
      "/Library/Frameworks/Python.framework/Versions/3.7/lib/python3.7/site-packages/mlxtend/plotting/decision_regions.py:247: UserWarning: No contour levels were found within the data range.\n",
      "  antialiased=True)\n"
     ]
    },
    {
     "data": {
      "image/png": "[encoded data removed]",
      "text/plain": [
       "<Figure size 1080x864 with 1 Axes>"
      ]
     },
     "metadata": {},
     "output_type": "display_data"
    }
   ],
   "source": [
    "#plotする\n",
    "X_train_plot=np.vstack(X_train)\n",
    "y_train_plot=np.hstack(y_train)\n",
    "X_test_plot=np.vstack(X_test)\n",
    "y_test_plot=np.hstack(y_test)\n",
    "fig = plt.figure(figsize=(15, 12))\n",
    "plt.xlabel(\"PC1\", fontsize = 20)\n",
    "plt.ylabel(\"Yield\",fontsize = 20)\n",
    "fig1 = plot_decision_regions(X_train_plot, y_train_plot, clf=clf_result, res=(2, )) #学習データをプロット\n",
    "fig2 = plot_decision_regions(X_test_plot, y_test_plot, clf=clf_result, res=(2, ), legend=2) #テストデータをプロット\n",
    "plt.show()"
   ]
  },
  {
   "cell_type": "code",
   "execution_count": null,
   "metadata": {},
   "outputs": [],
   "source": []
  },
  {
   "cell_type": "code",
   "execution_count": null,
   "metadata": {},
   "outputs": [],
   "source": []
  },
  {
   "cell_type": "code",
   "execution_count": null,
   "metadata": {},
   "outputs": [],
   "source": []
  }
 ],
 "metadata": {
  "kernelspec": {
   "display_name": "Python 3",
   "language": "python",
   "name": "python3"
  },
  "language_info": {
   "codemirror_mode": {
    "name": "ipython",
    "version": 3
   },
   "file_extension": ".py",
   "mimetype": "text/x-python",
   "name": "python",
   "nbconvert_exporter": "python",
   "pygments_lexer": "ipython3",
   "version": "3.7.0b3"
  }
 },
 "nbformat": 4,
 "nbformat_minor": 2
}
